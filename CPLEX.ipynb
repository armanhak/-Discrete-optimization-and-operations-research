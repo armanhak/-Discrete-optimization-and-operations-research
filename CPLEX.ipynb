{
 "cells": [
  {
   "cell_type": "markdown",
   "metadata": {},
   "source": [
    "# Max clique"
   ]
  },
  {
   "cell_type": "code",
   "execution_count": 1,
   "metadata": {},
   "outputs": [],
   "source": [
    "import time\n",
    "import pandas as pd\n",
    "from find_clique import parse_graph, get_max_clique,construct_cplex_problem"
   ]
  },
  {
   "cell_type": "code",
   "execution_count": 2,
   "metadata": {},
   "outputs": [],
   "source": [
    "res = {'Graph':[], 'Nodes':[], 'Edges':[],\n",
    "       'Clique length':[],'Time (ms)':[]}"
   ]
  },
  {
   "cell_type": "code",
   "execution_count": 3,
   "metadata": {},
   "outputs": [
    {
     "name": "stdout",
     "output_type": "stream",
     "text": [
      "\n",
      "get_max_clique function took 8.935 ms\n"
     ]
    },
    {
     "data": {
      "text/html": [
       "<div>\n",
       "<style scoped>\n",
       "    .dataframe tbody tr th:only-of-type {\n",
       "        vertical-align: middle;\n",
       "    }\n",
       "\n",
       "    .dataframe tbody tr th {\n",
       "        vertical-align: top;\n",
       "    }\n",
       "\n",
       "    .dataframe thead th {\n",
       "        text-align: right;\n",
       "    }\n",
       "</style>\n",
       "<table border=\"1\" class=\"dataframe\">\n",
       "  <thead>\n",
       "    <tr style=\"text-align: right;\">\n",
       "      <th></th>\n",
       "      <th>Graph</th>\n",
       "      <th>Nodes</th>\n",
       "      <th>Edges</th>\n",
       "      <th>Clique length</th>\n",
       "      <th>Time (ms)</th>\n",
       "    </tr>\n",
       "  </thead>\n",
       "  <tbody>\n",
       "    <tr>\n",
       "      <th>0</th>\n",
       "      <td>DIMACS_all_ascii/hamming6-2.clq</td>\n",
       "      <td>64</td>\n",
       "      <td>1824</td>\n",
       "      <td>32</td>\n",
       "      <td>80</td>\n",
       "    </tr>\n",
       "  </tbody>\n",
       "</table>\n",
       "</div>"
      ],
      "text/plain": [
       "                             Graph  Nodes  Edges  Clique length  Time (ms)\n",
       "0  DIMACS_all_ascii/hamming6-2.clq     64   1824             32         80"
      ]
     },
     "execution_count": 3,
     "metadata": {},
     "output_type": "execute_result"
    }
   ],
   "source": [
    "fname = 'DIMACS_all_ascii/hamming6-2.clq'\n",
    "graph = parse_graph(fname)#\n",
    "fix = time.time()\n",
    "qsize, solution = get_max_clique(construct_cplex_problem(graph))\n",
    "ms = round((time.time()-fix)*1000)\n",
    "res['Graph'].append(fname)\n",
    "res['Nodes'].append(len(graph.nodes))\n",
    "res['Edges'].append(len(graph.edges))\n",
    "res['Clique length'].append(qsize)\n",
    "res['Time (ms)'].append(ms)\n",
    "pd.DataFrame(res)"
   ]
  },
  {
   "cell_type": "markdown",
   "metadata": {},
   "source": [
    "# Cplex (cplex module)"
   ]
  },
  {
   "cell_type": "code",
   "execution_count": null,
   "metadata": {},
   "outputs": [],
   "source": [
    "import cplex\n",
    "c = cplex.Cplex()\n",
    "\n",
    "#Variables\n",
    "var_names = ['x1', 'x2'] # variable names\n",
    "lb = [0, 0]              # lower bounds\n",
    "ub = [ 1000,  1000]              # upper bounds\n",
    "var_types = ['I', 'I']    # variables types, I-integer, C-contiues,\n",
    "\n",
    "variable_indices = c.variables.add(names = var_names,\n",
    "                          lb = lb,\n",
    "                          ub = ub,\n",
    "                          types = var_types)"
   ]
  },
  {
   "cell_type": "code",
   "execution_count": null,
   "metadata": {},
   "outputs": [],
   "source": [
    "c = cplex.Cplex()\n",
    "\n",
    "#Variables\n",
    "var_names = ['x1', 'x2', 'x3'] # variable names\n",
    "lb = [0, 0, 0]              # lower bounds\n",
    "ub = [ 100,  100,  100]              # upper bounds\n",
    "var_types = ['I', 'I', 'I']    # variables types\n",
    "\n",
    "variable_indices = c.variables.add(names = var_names,\n",
    "                          lb = lb,\n",
    "                          ub = ub,\n",
    "                          types = var_types)"
   ]
  },
  {
   "cell_type": "markdown",
   "metadata": {},
   "source": [
    "**Linear constraints**"
   ]
  },
  {
   "cell_type": "code",
   "execution_count": null,
   "metadata": {},
   "outputs": [],
   "source": [
    "lin_expr = [\n",
    "            [[\"x1\",\"x2\"],[1, 1]],\n",
    "            [[\"x1\",\"x2\"],[ 10, 6]]\n",
    "           ]\n",
    "lin_constr_rhs = [5, 45]\n",
    "lin_constr_senses = [\"L\", \"L\"]\n",
    "lin_constr_names = ['linear_constraint1', 'linear_constraint2']\n",
    "\n",
    "\n",
    "lin_constr_indeces = c.linear_constraints.add(lin_expr=lin_expr,\n",
    "                                              rhs=lin_constr_rhs,\n",
    "                                              senses=lin_constr_senses,\n",
    "                                              names=lin_constr_names\n",
    "                                              )\n"
   ]
  },
  {
   "cell_type": "markdown",
   "metadata": {},
   "source": [
    "**Objective function**"
   ]
  },
  {
   "cell_type": "code",
   "execution_count": null,
   "metadata": {},
   "outputs": [],
   "source": [
    "linear_objective = [(\"x1\", 5), (\"x2\", 4)]\n",
    "\n",
    "# linear_objective = [(\"x1\", 1.0), (\"x2\", 2.0), (\"x3\", 1.0)]\n",
    "c.objective.set_linear(linear_objective)\n",
    "\n",
    "c.objective.set_sense(c.objective.sense.maximize)\n"
   ]
  },
  {
   "cell_type": "markdown",
   "metadata": {},
   "source": [
    "**Solving the optimization problem**"
   ]
  },
  {
   "cell_type": "code",
   "execution_count": null,
   "metadata": {},
   "outputs": [],
   "source": [
    "c.solve()\n",
    "print('#'*55,'\\n',c.solution.get_status_string())"
   ]
  },
  {
   "cell_type": "code",
   "execution_count": null,
   "metadata": {},
   "outputs": [],
   "source": [
    "c.solution.get_values([\"x1\", \"x2\"])"
   ]
  },
  {
   "cell_type": "code",
   "execution_count": null,
   "metadata": {},
   "outputs": [],
   "source": [
    "c.solution.get_values()"
   ]
  },
  {
   "cell_type": "code",
   "execution_count": null,
   "metadata": {},
   "outputs": [],
   "source": [
    "c.solution.get_objective_value()"
   ]
  },
  {
   "cell_type": "markdown",
   "metadata": {},
   "source": [
    "**Saving output to file**"
   ]
  },
  {
   "cell_type": "code",
   "execution_count": null,
   "metadata": {},
   "outputs": [],
   "source": [
    "# problem_path = \"./linear_programming_problem.cplex\"\n",
    "# solution_path = \"./linear_programming_solution.cplex\"\n",
    "\n",
    "# c.write(problem_path, filetype=\"lp\")\n",
    "# c.solution.write(solution_path)"
   ]
  }
 ],
 "metadata": {
  "kernelspec": {
   "display_name": "Python 3",
   "language": "python",
   "name": "python3"
  },
  "language_info": {
   "codemirror_mode": {
    "name": "ipython",
    "version": 3
   },
   "file_extension": ".py",
   "mimetype": "text/x-python",
   "name": "python",
   "nbconvert_exporter": "python",
   "pygments_lexer": "ipython3",
   "version": "3.7.0"
  },
  "toc": {
   "base_numbering": 1,
   "nav_menu": {},
   "number_sections": true,
   "sideBar": true,
   "skip_h1_title": false,
   "title_cell": "Table of Contents",
   "title_sidebar": "Contents",
   "toc_cell": false,
   "toc_position": {},
   "toc_section_display": true,
   "toc_window_display": false
  },
  "varInspector": {
   "cols": {
    "lenName": 16,
    "lenType": 16,
    "lenVar": 40
   },
   "kernels_config": {
    "python": {
     "delete_cmd_postfix": "",
     "delete_cmd_prefix": "del ",
     "library": "var_list.py",
     "varRefreshCmd": "print(var_dic_list())"
    },
    "r": {
     "delete_cmd_postfix": ") ",
     "delete_cmd_prefix": "rm(",
     "library": "var_list.r",
     "varRefreshCmd": "cat(var_dic_list()) "
    }
   },
   "types_to_exclude": [
    "module",
    "function",
    "builtin_function_or_method",
    "instance",
    "_Feature"
   ],
   "window_display": false
  }
 },
 "nbformat": 4,
 "nbformat_minor": 2
}
